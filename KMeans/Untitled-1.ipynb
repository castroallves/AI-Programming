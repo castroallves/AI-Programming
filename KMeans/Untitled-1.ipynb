{
 "cells": [
  {
   "cell_type": "code",
   "execution_count": 26,
   "metadata": {},
   "outputs": [],
   "source": [
    "import csv \n",
    "import numpy as np\n",
    "import random as rd\n",
    "import pandas as pd\n",
    "import math as mt\n",
    "import matplotlib.pyplot as plt\n",
    "np.random.seed(123)\n",
    "\n",
    "with open('KMEANS/observacoescluster.csv', 'r') as read_obj:\n",
    "\n",
    "\t data = list(csv.reader(read_obj, delimiter =\";\"))\n",
    "\n",
    "data2 = [list(map(float, row)) for row in data]"
   ]
  },
  {
   "cell_type": "code",
   "execution_count": 27,
   "metadata": {},
   "outputs": [],
   "source": [
    "k = 3\n",
    "cluster = []\n",
    "b = []\n",
    "bnovo = []\n",
    "\n",
    "for i in range (len(data)):\n",
    "\tb.append(0)\n",
    "\tbnovo.append(1)\n",
    "\n",
    "for i in range (0,k):\n",
    "\t cluster.append(data[rd.randrange(0,len(data2))][:])\n",
    "\n",
    "cluster2 = [list(map(float, row)) for row in cluster]"
   ]
  },
  {
   "cell_type": "code",
   "execution_count": 28,
   "metadata": {},
   "outputs": [],
   "source": [
    "itermax= 50000\n",
    "iter = 0\n",
    "\n",
    "centroide_maisproximo = 0\n",
    "entrada = len(data)\n",
    "eqt = []\n",
    "erros = []\n",
    "for j in range(0,k):\n",
    "\teqt.append(0)\n",
    "\terros.append([])\n",
    "\n",
    "distancia = []\n"
   ]
  },
  {
   "cell_type": "code",
   "execution_count": 29,
   "metadata": {},
   "outputs": [
    {
     "name": "stdout",
     "output_type": "stream",
     "text": [
      "1\n",
      "2\n",
      "3\n"
     ]
    }
   ],
   "source": [
    "while (b!= bnovo) and (iter < itermax):\n",
    "\n",
    "\tfor j in range(0,k):\n",
    "\t\teqt[j] = 0\n",
    "\tb = bnovo[:]\n",
    "\titer += 1\n",
    "\tprint(iter)\n",
    "\n",
    "\tfor i in range(0,entrada):\n",
    "\t\t\tmaisproximo=1000\n",
    "\t\t\tfor j in range (0,k):\n",
    "\t\t\t\tdistancia = mt.sqrt((cluster2[j][0]- data2[i][0])**2 + ((cluster2[j][1]-data2[i][1]))**2)\n",
    "\t\t\t\tif (distancia < maisproximo):\n",
    "\t\t\t\t\tmaisproximo=distancia\n",
    "\t\t\t\t\tcentroide_maisproximo = j\n",
    "\t\t\t\tbnovo[i] = centroide_maisproximo\n",
    "\t\n",
    "\tfor j in range (0,k):\n",
    "\t\tsomax = 0\n",
    "\t\tsomay = 0\n",
    "\t\telementos = 0\n",
    "\t\tfor i in range (0,entrada):\n",
    "\t\t\tif(bnovo[i] == j):\n",
    "\t\t\t\tdistancia = mt.sqrt((cluster2[j][0]- data2[i][0])**2 + ((cluster2[j][1]-data2[i][1]))**2)\n",
    "\t\t\t\teqt[j]+= distancia**2\n",
    "\t\t\t\tsomax += data2[i][0]\n",
    "\t\t\t\tsomay += data2[i][0]\n",
    "\t\t\t\telementos += 1\n",
    "\t\tif elementos != 0:\n",
    "\t\t\tcluster2[j][0] = somax / elementos\n",
    "\t\t\tcluster2[j][1] = somay / elementos\n",
    "\t\n",
    "\tfor j in range(0,k):\n",
    "\t\terros[j].append(eqt[j])"
   ]
  },
  {
   "cell_type": "code",
   "execution_count": 30,
   "metadata": {},
   "outputs": [
    {
     "data": {
      "image/png": "[encoded data removed]",
      "text/plain": [
       "<Figure size 640x480 with 1 Axes>"
      ]
     },
     "metadata": {},
     "output_type": "display_data"
    }
   ],
   "source": [
    "for i in range(0,entrada):\n",
    "\tif bnovo[i] == 0:\n",
    "\t\tplt.scatter(data2[i][0], data2[i][1], c= \"b\", marker = '*')\n",
    "\tif bnovo[i] == 1:\n",
    "\t\tplt.scatter(data2[i][0], data2[i][1], c= \"r\", marker = '*')\n",
    "\tif bnovo[i] == 2:\n",
    "\t\tplt.scatter(data2[i][0], data2[i][1], c= \"g\", marker = '*')\n",
    "\tif bnovo[i] == 3:\n",
    "\t\tplt.scatter(data2[i][0], data2[i][1], c= \"y\", marker = '*')\n",
    "\tif bnovo[i] == 4:\n",
    "\t\tplt.scatter(data2[i][0], data2[i][1], c= \"n\", marker = '*')\n",
    "\n",
    "for j in range (0,k):\n",
    "\tplt.scatter(cluster2[j][0],cluster2[j][1], marker = 'o')\n",
    "\n",
    "\n"
   ]
  }
 ],
 "metadata": {
  "kernelspec": {
   "display_name": "Python 3.8.11 64-bit",
   "language": "python",
   "name": "python3"
  },
  "language_info": {
   "codemirror_mode": {
    "name": "ipython",
    "version": 3
   },
   "file_extension": ".py",
   "mimetype": "text/x-python",
   "name": "python",
   "nbconvert_exporter": "python",
   "pygments_lexer": "ipython3",
   "version": "3.8.11"
  },
  "orig_nbformat": 4,
  "vscode": {
   "interpreter": {
    "hash": "072fdbdc594ffba8e1c3402df3f65baf4ee054b65aff591a672f856444512825"
   }
  }
 },
 "nbformat": 4,
 "nbformat_minor": 2
}
